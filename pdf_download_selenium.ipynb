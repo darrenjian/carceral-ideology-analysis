{
 "cells": [
  {
   "cell_type": "markdown",
   "metadata": {},
   "source": [
    "## Installation Instructions\n",
    "\n",
    "### (1) Install selenium (may also need to update `requests`)\n",
    "```\n",
    "pip3 install selenium\n",
    "```\n",
    "\n",
    "### (2) Install webdriver \n",
    "For Firefox install [Geckodriver](https://github.com/mozilla/geckodriver/releases) and for Chrome install [ChromeDriver](https://sites.google.com/chromium.org/driver/)\n",
    "\n",
    "#### **MacOS** \n",
    "\n",
    "Navigate to the tmp directory\n",
    "\n",
    "`cd tmp/`\n",
    "\n",
    "Download Geckodriver\n",
    "\n",
    "`wget https://github.com/mozilla/geckodriver/releases/download/v0.30.0/geckodriver-v0.30.0-macos.tar.gz`\n",
    "\n",
    "Extract the file\n",
    "\n",
    "`tar -xzf geckodriver-v0.30.0-macos.tar.gz`\n",
    "\n",
    "Change permissions to make the file executable\n",
    "\n",
    "`chmod +x geckodriver`\n",
    "\n",
    "Move the files to the local applications directory and append the location to your path variable\n",
    "\n",
    "`mv geckodriver /usr/local/bin/geckodriver`\n",
    "\n",
    "`export PATH=$PATH:/usr/local/bin/geckodriver`\n",
    "\n",
    "#### **Linux**\n",
    "\n",
    "Download ChromeDriver\n",
    "\n",
    "`wget https://chromedriver.storage.googleapis.com/100.0.4896.60/chromedriver_linux64.zip`\n",
    "\n",
    "Extract the file\n",
    "\n",
    "`unzip chromedriver_linux64.zip`\n",
    "\n",
    "Change permissions to make the file executable\n",
    "\n",
    "`chmod +x chromedriver`\n",
    "\n",
    "Move the files to the local applications directory\n",
    "\n",
    "`sudo mv chromedriver /usr/local/bin/`"
   ]
  },
  {
   "cell_type": "code",
   "execution_count": null,
   "metadata": {},
   "outputs": [],
   "source": [
    "from selenium import webdriver\n",
    "from selenium.webdriver.common.by import By\n",
    "from selenium.webdriver.firefox.options import Options"
   ]
  },
  {
   "cell_type": "code",
   "execution_count": null,
   "metadata": {},
   "outputs": [],
   "source": [
    "download_path = 'data/handbooks/pdf/'"
   ]
  },
  {
   "cell_type": "code",
   "execution_count": null,
   "metadata": {},
   "outputs": [],
   "source": [
    "opt = Options()\n",
    "opt.headless = False\n",
    "prefs = {\"browser.download.folderList\":2,\n",
    "         \"browser.download.manager.showWhenStarting\":False, \n",
    "         \"broswer.download.manager.useWindow\":False,\n",
    "         \"browser.download.dir\":download_path,\n",
    "         \"browser.helperApps.neverAsk.force\":True,\n",
    "         \"browser.helperApps.neverAsk.saveToDisk\":\"application/pdf,application/x-pdf\",\n",
    "         \"browser.helperApps.neverAsk.openFile\":\"application/pdf,application/x-pdf\",\n",
    "         \"browser.download.manager.closeWhenDone\":True,\n",
    "         \"pdfjs.previousHandler.alwaysAskBeforeHandling\": True,\n",
    "         \"pdfjs.previousHandler.preferredAction\": 4}\n",
    "\n",
    "for p in prefs:\n",
    "    opt.set_preference(p, prefs[p])"
   ]
  },
  {
   "cell_type": "code",
   "execution_count": null,
   "metadata": {},
   "outputs": [],
   "source": [
    "driver = webdriver.Firefox(options=opt)"
   ]
  },
  {
   "cell_type": "code",
   "execution_count": null,
   "metadata": {},
   "outputs": [],
   "source": [
    "pdf1 = 'https://files.gabbart.com/226/elem_handbook19-20.pdf'"
   ]
  },
  {
   "cell_type": "code",
   "execution_count": null,
   "metadata": {},
   "outputs": [],
   "source": [
    "driver.get(pdf1)"
   ]
  },
  {
   "cell_type": "code",
   "execution_count": null,
   "metadata": {},
   "outputs": [],
   "source": [
    "# dl = driver.find_element(by=By.XPATH, value='//*[@id=\"download\"]')\n",
    "dl = driver.find_element(by='id', value='download')\n",
    "dl.click()"
   ]
  },
  {
   "cell_type": "code",
   "execution_count": null,
   "metadata": {},
   "outputs": [],
   "source": [
    "driver.close()"
   ]
  },
  {
   "cell_type": "code",
   "execution_count": null,
   "metadata": {},
   "outputs": [],
   "source": [
    "driver.quit()"
   ]
  }
 ],
 "metadata": {
  "kernelspec": {
   "display_name": "Python 3",
   "language": "python",
   "name": "python3"
  },
  "language_info": {
   "codemirror_mode": {
    "name": "ipython",
    "version": 3
   },
   "file_extension": ".py",
   "mimetype": "text/x-python",
   "name": "python",
   "nbconvert_exporter": "python",
   "pygments_lexer": "ipython3",
   "version": "3.8.5"
  }
 },
 "nbformat": 4,
 "nbformat_minor": 4
}
