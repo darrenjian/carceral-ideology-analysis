{
 "cells": [
  {
   "cell_type": "code",
   "execution_count": null,
   "metadata": {},
   "outputs": [],
   "source": [
    "import pandas as pd\n",
    "import numpy as np\n",
    "\n",
    "# API access\n",
    "import requests\n",
    "import warnings\n",
    "import json\n",
    "\n",
    "# Reading a website\n",
    "from bs4 import BeautifulSoup\n",
    "import re\n",
    "\n",
    "# Progress bar and timing\n",
    "from tqdm import tqdm\n",
    "tqdm.pandas(desc=\"Progress\")\n",
    "\n",
    "warnings.simplefilter(action='ignore', category=FutureWarning)\n",
    "\n",
    "import shutil\n",
    "import os.path"
   ]
  },
  {
   "cell_type": "markdown",
   "metadata": {},
   "source": [
    "Note: I manually created the `handbook` folder and their supplemental subfolders as it was easier to do that at this point rather than creating those folders in the code."
   ]
  },
  {
   "cell_type": "markdown",
   "metadata": {},
   "source": [
    "## Function definitions"
   ]
  },
  {
   "cell_type": "code",
   "execution_count": null,
   "metadata": {},
   "outputs": [],
   "source": [
    "def download_doc(df):\n",
    "    '''\n",
    "    The purpose of this function is to download handbooks with .doc file type.\n",
    "    \n",
    "    Inputs - \n",
    "    df: dataframe\n",
    "    \n",
    "    Outputs - \n",
    "    the dataframe with a status column\n",
    "    '''\n",
    "    doc_status = []\n",
    "    \n",
    "    for doc in tqdm(range(len(df))):\n",
    "        if df['handbook_type'].loc[doc] == 'doc':\n",
    "            response = requests.get(df['handbooks'].loc[doc])\n",
    "            try:\n",
    "                d_name = r'./handbooks/doc/%i.doc' % df['NCESSCH'].loc[doc]\n",
    "\n",
    "                # Checking if the file already exists\n",
    "                filename, extension = os.path.splitext(d_name)\n",
    "                i = 1\n",
    "                \n",
    "                while os.path.exists(d_name):\n",
    "                    d_name = filename + '_' + str(i) + extension\n",
    "                    i += 1\n",
    "\n",
    "                with open(d_name, 'wb') as t:\n",
    "                    t.write(response.content)\n",
    "                \n",
    "                doc_status.append('Complete')\n",
    "            except Exception as e:\n",
    "                pdf_status.append('Failed:' + str(e))\n",
    "        else:\n",
    "            doc_status.append(np.nan)\n",
    "    \n",
    "    df['status'] = doc_status"
   ]
  },
  {
   "cell_type": "code",
   "execution_count": null,
   "metadata": {},
   "outputs": [],
   "source": [
    "def download_pdf(df):\n",
    "    '''\n",
    "    The purpose of this function is to download the handbooks with a .pdf file type.\n",
    "    df is the full dataframe. \n",
    "    '''\n",
    "#     df = df[df['handbook_type'] == 'PDF'].reset_index(drop = True)\n",
    "    pdf_status = []\n",
    "    \n",
    "    for pdf in tqdm(range(len(df))):\n",
    "        if df['handbook_type'].loc[pdf] == 'pdf':\n",
    "            response = requests.get(df['handbooks'].loc[pdf])\n",
    "            try:\n",
    "                p_name = r'./handbooks/pdf/%i.pdf' % df['NCESSCH'].loc[pdf]\n",
    "                \n",
    "                # Checking if the file already exists\n",
    "                filename, extension = os.path.splitext(p_name)\n",
    "                i = 1\n",
    "                \n",
    "                while os.path.exists(p_name):\n",
    "                    p_name = filename + '_' + str(i) + extension\n",
    "                    i += 1\n",
    "                    \n",
    "                with open(p_name, 'wb') as t:\n",
    "                    t.write(response.content)\n",
    "                \n",
    "                pdf_status.append('Complete')\n",
    "            except Exception as e:\n",
    "                pdf_status.append('Failed:' + str(e))\n",
    "        else: \n",
    "            pdf_status.append(df['status'].loc[pdf])\n",
    "    \n",
    "    df['status'] = pdf_status"
   ]
  },
  {
   "cell_type": "code",
   "execution_count": null,
   "metadata": {},
   "outputs": [],
   "source": [
    "# def download_html(df):\n",
    "#     '''\n",
    "#     The purpose of this function is to download the handbooks with a .html file type.\n",
    "#     html_url represents a url link to the handbook, and html_name is the name of the downloaded \n",
    "#     handbook (school name).\n",
    "#     '''\n",
    "#     df = df[df['handbook_type'] == 'HTML'].reset_index(drop = True)\n",
    "#     html_status = []\n",
    "        \n",
    "#     for html in tqdm(range(len(df))): \n",
    "#         response = requests.get(df.iloc[html,9])\n",
    "#         response.encoding = 'utf-8'\n",
    "#         try:\n",
    "#             with open(df.iloc[html,1] + '.html', 'w', encoding = 'utf-8') as t:\n",
    "#                 t.write(response.text)\n",
    "#             shutil.move(df.iloc[html,1] + '.html', r'./handbooks/html')\n",
    "#             html_status.append('Complete')\n",
    "#         except:\n",
    "#             html_status.append('Failed')\n",
    "#     df['status'] = html_status"
   ]
  },
  {
   "cell_type": "markdown",
   "metadata": {},
   "source": [
    "## Testing"
   ]
  },
  {
   "cell_type": "code",
   "execution_count": null,
   "metadata": {},
   "outputs": [],
   "source": [
    "# Reading in 'sample_df'\n",
    "sample_df = pd.read_csv('./files/sample_df.csv', usecols = ['SCH_NAME', 'NCESSCH', 'final_website', \n",
    "                                                            'handbooks', 'handbook_type'])"
   ]
  },
  {
   "cell_type": "code",
   "execution_count": null,
   "metadata": {},
   "outputs": [],
   "source": [
    "# Changing 'NCESSCH' from float to integer\n",
    "# sample_df['NCESSCH'] = sample_df['NCESSCH'].astype(str)"
   ]
  },
  {
   "cell_type": "code",
   "execution_count": null,
   "metadata": {},
   "outputs": [],
   "source": [
    "# Inserting two sample doc rows\n",
    "sample_df.loc[135] = ['Test', 12345, 'https://gradschool.wsu.edu/', 'https://gradschool.wsu.edu/documents/2017/02/student-handbook-template.docx/', 'doc']\n",
    "\n",
    "sample_df.loc[136] = ['Test', 12345, 'https://gradschool.wsu.edu/', 'https://www.uab.edu/shp/hsa/images/documents/HCM/student-handbook.docx', 'doc']\n",
    "\n",
    "# Two sample pdfs\n",
    "sample_df.loc[137] = ['Test', 12346, 'https://webster.edu/', 'https://webster.edu/documents/student-handbook/webster-student-handbook.pdf', 'pdf']\n",
    "\n",
    "sample_df.loc[138] = ['Test', 12346, 'https://webster.edu/', 'https://www.fletc.gov/sites/default/files/Glynco%20Student%20Handbook%2027Mar15.pdf', 'pdf']"
   ]
  },
  {
   "cell_type": "code",
   "execution_count": null,
   "metadata": {},
   "outputs": [],
   "source": [
    "# Testing the 2 download functions\n",
    "download_doc(sample_df)\n",
    "\n",
    "download_pdf(sample_df)"
   ]
  },
  {
   "cell_type": "code",
   "execution_count": null,
   "metadata": {},
   "outputs": [],
   "source": [
    "sample_df.to_csv('./files/sample_status.csv', index=False)\n",
    "sample_df"
   ]
  },
  {
   "cell_type": "code",
   "execution_count": null,
   "metadata": {},
   "outputs": [],
   "source": [
    "# Creating a stratified sample for testing\n",
    "# temp = handbook_urls.groupby('handbook_type', group_keys = False).apply(lambda x: x.sample(5))"
   ]
  }
 ],
 "metadata": {
  "kernelspec": {
   "display_name": "Python 3",
   "language": "python",
   "name": "python3"
  },
  "language_info": {
   "codemirror_mode": {
    "name": "ipython",
    "version": 3
   },
   "file_extension": ".py",
   "mimetype": "text/x-python",
   "name": "python",
   "nbconvert_exporter": "python",
   "pygments_lexer": "ipython3",
   "version": "3.8.5"
  }
 },
 "nbformat": 4,
 "nbformat_minor": 5
}
