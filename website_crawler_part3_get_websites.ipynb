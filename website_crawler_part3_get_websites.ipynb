{
 "cells": [
  {
   "cell_type": "code",
   "execution_count": null,
   "metadata": {},
   "outputs": [],
   "source": [
    "import pandas as pd\n",
    "import numpy as np\n",
    "\n",
    "# API access\n",
    "import requests\n",
    "import warnings\n",
    "\n",
    "# Progress bar and timing\n",
    "from tqdm import tqdm\n",
    "tqdm.pandas(desc=\"Progress\")\n",
    "\n",
    "warnings.simplefilter(action='ignore', category=FutureWarning)"
   ]
  },
  {
   "cell_type": "markdown",
   "metadata": {},
   "source": [
    "### Function definitions"
   ]
  },
  {
   "cell_type": "code",
   "execution_count": null,
   "metadata": {},
   "outputs": [],
   "source": [
    "def url_request(url):\n",
    "    '''\n",
    "    Retrieves json-formatted web server response for a single url\n",
    "    Accepts: str\n",
    "    Returns: dict (json object)\n",
    "    '''\n",
    "    response = requests.request('GET', url)\n",
    "    return response.json()"
   ]
  },
  {
   "cell_type": "code",
   "execution_count": null,
   "metadata": {},
   "outputs": [],
   "source": [
    "def session_request(url_list):\n",
    "    '''\n",
    "    Retrieves json-formatted web server responses for a list of urls\n",
    "    Accepts: list of str\n",
    "    Returns: list of dict (json objects)\n",
    "    '''\n",
    "    results = []\n",
    "    session = requests.Session()\n",
    "    for url in tqdm(url_list):\n",
    "        response = session.request('GET', url)\n",
    "        results.append(response.json())\n",
    "    return results"
   ]
  },
  {
   "cell_type": "code",
   "execution_count": null,
   "metadata": {},
   "outputs": [],
   "source": [
    "def select_column(rank1, rank2):\n",
    "    '''\n",
    "    Compares two columns and returns the higher ranked column entry or combination \n",
    "    Accepts: str or null\n",
    "    Returns: str, list of str, or null\n",
    "    '''\n",
    "    if rank1 == rank2:\n",
    "        return rank1\n",
    "    elif pd.notnull(rank1) and pd.notnull(rank2):\n",
    "        return [rank1, rank2]\n",
    "    elif pd.notnull(rank1):\n",
    "        return rank1\n",
    "    else: \n",
    "        return rank2"
   ]
  },
  {
   "cell_type": "markdown",
   "metadata": {},
   "source": [
    "### Place ID source data, required for Google Place API queries"
   ]
  },
  {
   "cell_type": "code",
   "execution_count": null,
   "metadata": {
    "scrolled": true
   },
   "outputs": [],
   "source": [
    "place_id = pd.read_csv('./files/place_ids.csv', dtype=str)\n",
    "place_id.shape"
   ]
  },
  {
   "cell_type": "code",
   "execution_count": null,
   "metadata": {},
   "outputs": [],
   "source": [
    "# Examine missingness among websites\n",
    "place_id.isnull().sum()"
   ]
  },
  {
   "cell_type": "markdown",
   "metadata": {},
   "source": [
    "### Gathering websites from Google Place API"
   ]
  },
  {
   "cell_type": "code",
   "execution_count": null,
   "metadata": {},
   "outputs": [],
   "source": [
    "# API key obtained via Google Cloud Console under project gcp-gu-ppalab\n",
    "# local_file = '/Users/sahithi/Documents/school/grad/brodnax/adari_places_auth.txt'\n",
    "local_file = '/Users/nb775/auth/brodnax_places_auth.txt'\n",
    "with open(local_file) as txtfile:\n",
    "    my_key = txtfile.read().strip('\\n')\n",
    "# print(\"API Key: \" + my_key)"
   ]
  },
  {
   "cell_type": "code",
   "execution_count": null,
   "metadata": {},
   "outputs": [],
   "source": [
    "# Setting the urls for the secord part of the API\n",
    "web_url = 'https://maps.googleapis.com/maps/api/place/details/json?place_id='\n",
    "web_param = '&fields=name%2Cwebsite&key=' + my_key"
   ]
  },
  {
   "cell_type": "code",
   "execution_count": null,
   "metadata": {},
   "outputs": [],
   "source": [
    "# Generating a unique url for each place_id in order to feed that into the API\n",
    "only_pid = list(place_id['g_pid'])\n",
    "web_api = []\n",
    "for pid in only_pid:\n",
    "    if pid:\n",
    "        web_api.append(web_url + pid + web_param)\n",
    "    else:\n",
    "        web_api.append(None)"
   ]
  },
  {
   "cell_type": "markdown",
   "metadata": {},
   "source": [
    "### Speed comparison for different approaches"
   ]
  },
  {
   "cell_type": "code",
   "execution_count": null,
   "metadata": {},
   "outputs": [],
   "source": [
    "results = []\n",
    "for link in tqdm(web_api[:10]):\n",
    "    results.append(url_request(link))\n",
    "print(results)"
   ]
  },
  {
   "cell_type": "code",
   "execution_count": null,
   "metadata": {},
   "outputs": [],
   "source": [
    "results = session_request(web_api[:10])\n",
    "print(results)"
   ]
  },
  {
   "cell_type": "markdown",
   "metadata": {},
   "source": [
    "### API requests and formatting"
   ]
  },
  {
   "cell_type": "code",
   "execution_count": null,
   "metadata": {},
   "outputs": [],
   "source": [
    "web_list = session_request(web_api)"
   ]
  },
  {
   "cell_type": "code",
   "execution_count": null,
   "metadata": {},
   "outputs": [],
   "source": [
    "# Grabbing school names (to ensure match) and websites and adding them to the dataframe\n",
    "places_names = []\n",
    "places_websites = []\n",
    "\n",
    "for escuela in tqdm(web_list):\n",
    "    if (escuela.get('status') == 'OK') == True:\n",
    "        places_names.append(escuela.get('result').get('name'))\n",
    "        places_websites.append(escuela.get('result').get('website'))\n",
    "    else:\n",
    "        places_names.append(None)\n",
    "        places_websites.append(None)"
   ]
  },
  {
   "cell_type": "code",
   "execution_count": null,
   "metadata": {},
   "outputs": [],
   "source": [
    "place_id['places_sch'] = places_names\n",
    "place_id['places_website'] = places_websites\n",
    "place_id.head()"
   ]
  },
  {
   "cell_type": "code",
   "execution_count": null,
   "metadata": {},
   "outputs": [],
   "source": [
    "place_id.isnull().sum()"
   ]
  },
  {
   "cell_type": "code",
   "execution_count": null,
   "metadata": {},
   "outputs": [],
   "source": [
    "place_id['final_website'] = place_id.progress_apply(lambda x: select_column(x.places_website, x.WEBSITE), axis=1)"
   ]
  },
  {
   "cell_type": "code",
   "execution_count": null,
   "metadata": {},
   "outputs": [],
   "source": [
    "place_id.isnull().sum()"
   ]
  },
  {
   "cell_type": "code",
   "execution_count": null,
   "metadata": {},
   "outputs": [],
   "source": [
    "place_id.head()"
   ]
  },
  {
   "cell_type": "markdown",
   "metadata": {},
   "source": [
    "### Merging in place IDs for schools that initially returned errors"
   ]
  },
  {
   "cell_type": "code",
   "execution_count": null,
   "metadata": {},
   "outputs": [],
   "source": [
    "# Import only the columns that match the current dataset\n",
    "place_id.columns\n",
    "place_id_errors = pd.read_csv('./files/school_websites_from_errors.csv',\n",
    "                             usecols=list(place_id.columns))\n",
    "place_id_errors.head()"
   ]
  },
  {
   "cell_type": "code",
   "execution_count": null,
   "metadata": {},
   "outputs": [],
   "source": [
    "school_websites = pd.concat([place_id, place_id_errors], axis=0)\n",
    "school_websites = school_websites.explode('final_website').drop_duplicates(ignore_index=True)\n",
    "school_websites.shape"
   ]
  },
  {
   "cell_type": "markdown",
   "metadata": {},
   "source": [
    "### Exporting the final dataset of websites"
   ]
  },
  {
   "cell_type": "code",
   "execution_count": null,
   "metadata": {},
   "outputs": [],
   "source": [
    "school_websites.to_csv('./files/school_websites.csv', index=False)"
   ]
  },
  {
   "cell_type": "code",
   "execution_count": null,
   "metadata": {},
   "outputs": [],
   "source": [
    "len(set(school_websites['final_website']))"
   ]
  }
 ],
 "metadata": {
  "kernelspec": {
   "display_name": "Python 3 (ipykernel)",
   "language": "python",
   "name": "python3"
  },
  "language_info": {
   "codemirror_mode": {
    "name": "ipython",
    "version": 3
   },
   "file_extension": ".py",
   "mimetype": "text/x-python",
   "name": "python",
   "nbconvert_exporter": "python",
   "pygments_lexer": "ipython3",
   "version": "3.8.9"
  }
 },
 "nbformat": 4,
 "nbformat_minor": 4
}
